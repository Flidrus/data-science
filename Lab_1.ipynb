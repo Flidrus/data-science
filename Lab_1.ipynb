{
 "cells": [
  {
   "cell_type": "markdown",
   "id": "dfa9e926-246c-4aa0-b009-a6096772d8f8",
   "metadata": {},
   "source": [
    "### Призначення Jupyter Notebook\n",
    "Jupyter Notebook — це інтерактивне середовище для виконання коду, аналізу даних та створення документів. Воно підтримує комбінацію коду, тексту, графіків та інтерактивних елементів. Використовується здебільшого для наукових обчислень, машинного навчання та аналізу даних."
   ]
  },
  {
   "cell_type": "code",
   "execution_count": 3,
   "id": "7d60f9d1-df3e-4f3c-929a-c8f11d6dc47e",
   "metadata": {},
   "outputs": [
    {
     "name": "stdin",
     "output_type": "stream",
     "text": [
      "Введіть ваше ім'я:  семен\n"
     ]
    },
    {
     "name": "stdout",
     "output_type": "stream",
     "text": [
      "Hello, семен!\n"
     ]
    }
   ],
   "source": [
    "name = input(\"Введіть ваше ім'я: \")\n",
    "print(f\"Hello, {name}!\")"
   ]
  },
  {
   "cell_type": "code",
   "execution_count": 2,
   "id": "09ff980c-273e-4857-bdee-e84fde550fed",
   "metadata": {},
   "outputs": [
    {
     "name": "stdout",
     "output_type": "stream",
     "text": [
      "Масив випадкових чисел: [0.7502084  0.94419643 0.24266777 0.53733066 0.19801321 0.16029461\n",
      " 0.62890613 0.10542962 0.34337367 0.07857785]\n",
      "Середнє значення масиву: 0.39889983596424117\n"
     ]
    }
   ],
   "source": [
    "import numpy as np\n",
    "\n",
    "random_numbers = np.random.random(10)\n",
    "average_value = np.mean(random_numbers)\n",
    "\n",
    "print(\"Масив випадкових чисел:\", random_numbers)\n",
    "print(\"Середнє значення масиву:\", average_value)"
   ]
  },
  {
   "cell_type": "code",
   "execution_count": null,
   "id": "ec7da1af-940d-4415-bc42-4d50ceae8605",
   "metadata": {},
   "outputs": [],
   "source": []
  }
 ],
 "metadata": {
  "kernelspec": {
   "display_name": "Python 3 (ipykernel)",
   "language": "python",
   "name": "python3"
  },
  "language_info": {
   "codemirror_mode": {
    "name": "ipython",
    "version": 3
   },
   "file_extension": ".py",
   "mimetype": "text/x-python",
   "name": "python",
   "nbconvert_exporter": "python",
   "pygments_lexer": "ipython3",
   "version": "3.12.6"
  }
 },
 "nbformat": 4,
 "nbformat_minor": 5
}
